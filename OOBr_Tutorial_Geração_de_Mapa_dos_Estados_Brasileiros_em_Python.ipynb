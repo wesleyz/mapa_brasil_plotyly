{
  "nbformat": 4,
  "nbformat_minor": 0,
  "metadata": {
    "colab": {
      "name": "OOBr  - Tutorial Geração de Mapa dos Estados Brasileiros em Python.ipynb",
      "private_outputs": true,
      "provenance": [],
      "collapsed_sections": []
    },
    "kernelspec": {
      "name": "python3",
      "display_name": "Python 3"
    },
    "language_info": {
      "name": "python"
    }
  },
  "cells": [
    {
      "cell_type": "markdown",
      "metadata": {
        "id": "1Z9SAEtF07AM"
      },
      "source": [
        "# Exemplo Geração de Mapas - OOBr\n",
        "\n",
        "> O conjunto de dados utilizados neste exemplo possui dimensionalidade de 54 linhas por 28 colunas.\n",
        "\n",
        "\n",
        "---\n",
        "**Variáveis Obstétricas:**\n",
        "\n",
        "*   Nascimentos - Quantidade de Nascimentos\n",
        "*   Porc_prematuros - Percentual de Prematuros\n",
        "*   Porc_cesareas - Percentual de Cesáreas\n",
        "*   Porc_grav_multipla - Percentual de Gravidez Multiplas\n",
        "*   Porc_anomalias - Percentual de Anomalias\n",
        "*   Porc_nenhuma_consulta - Percentual de nenhuma consulta\n",
        "*   Porc_consulta7mais - Percentual de mais de 7 consultas\n",
        "*   Porc_feminino - Percentual do sexo feminino\n",
        "*   Porc_raca_mae_branca - Percentual de mãe com raça branca\n",
        "*   Porc_raca_mae_negra - Percentual de  mãe com raça negra\n",
        "*   Porc_peso_menor_2500 - Percentual de peso menor de 2.5Kg\n",
        "*   Porc_apgar1_menor_7 - Percentual de  APGAR1 < 7 \n",
        "*   Porc_apgar5_menor_7 - Percentual de  APGAR5 < 7\n",
        "---\n",
        "\n",
        "**Variáveis Socioeconômicas:**\n",
        "\n",
        "*   GINI - Mede o grau de desigualdade existente na distribuição de indivíduos segundo a renda domiciliar per capita. Seu valor varia de 0, quando não há desigualdade (a renda domiciliar per capita de todos os indivíduos tem o mesmo valor), a 1, quando a desigualdade é máxima (apenas um indivíduo detém toda a renda).O universo de indivíduos é limitado àqueles que vivem em domicílios particulares permanentes.\n",
        "*   T_DES - Percentual da população economicamente ativa (PEA) nessa faixa etária que estava desocupada, ou seja, que não estava ocupada na semana anterior à data do Censo mas havia procurado trabalho ao longo do mês anterior à data dessa pesquisa.\n",
        "*   T_ANALF15M - Taxa de analfabetismo - 15 anos ou mais \n",
        "*   PAREDE - Percentual de pessoas em domicílios com paredes inadequadas\n",
        "*   T_AGUA - Percentual da população em domicílios com água encanada\n",
        "*   T_BANAGUA - Percentual da população em domicílios com banheiro e água encanada\n",
        "*   AGUA_ESGOTO - Razão entre as pessoas que vivem em domicílios cujo abastecimento de água não provem de rede geral e cujo esgotamento sanitário não é realizado por rede coletora de esgoto ou fossa séptica e a população total residente em domicílios particulares permanentes multiplicado por 100. São considerados apenas os domicílios particulares permanentes.\n",
        "*   T_LIXO - Percentual da população em domicílios com coleta de lixo"
      ]
    },
    {
      "cell_type": "markdown",
      "metadata": {
        "id": "z019QH96_SZt"
      },
      "source": [
        "# Carregamento dos Dados"
      ]
    },
    {
      "cell_type": "code",
      "source": [
        "import pandas as pd\n",
        "\n",
        "dados = pd.read_csv(\"dados_brutos_com_latitudes_obstetricos_ibge.csv\", sep=';')"
      ],
      "metadata": {
        "id": "lVo0f07g0Xl8"
      },
      "execution_count": null,
      "outputs": []
    },
    {
      "cell_type": "markdown",
      "source": [
        "# Instalação da Biblioteca de geração de mapa (plotly)"
      ],
      "metadata": {
        "id": "4wbJ9zOCMNeO"
      }
    },
    {
      "cell_type": "code",
      "metadata": {
        "id": "E4G4gfBsbf04"
      },
      "source": [
        "!pip install plotly --quiet\n",
        "!pip install -U plotly --quiet\n",
        "import plotly\n",
        "print(plotly.__version__)\n",
        "import plotly as plty\n",
        "import plotly.express as px\n",
        "import json\n",
        "from urllib.request import urlopen\n"
      ],
      "execution_count": null,
      "outputs": []
    },
    {
      "cell_type": "code",
      "source": [
        "with urlopen('https://raw.githubusercontent.com/codeforamerica/click_that_hood/master/public/data/brazil-states.geojson') as response:\n",
        "        Brazil = json.load(response) # Javascrip object notation \n",
        "\n",
        "state_id_map = {}\n",
        "for feature in Brazil ['features']:\n",
        " feature['id'] = feature['properties']['name']\n",
        " state_id_map[feature['properties']['sigla']] = feature['id']"
      ],
      "metadata": {
        "id": "g8ogL-FQrslJ"
      },
      "execution_count": null,
      "outputs": []
    },
    {
      "cell_type": "markdown",
      "source": [
        "# Geração do Mapa"
      ],
      "metadata": {
        "id": "kQfK12oKMn4G"
      }
    },
    {
      "cell_type": "code",
      "metadata": {
        "id": "E7g4k3fBbnxt"
      },
      "source": [
        "### Definição da variável padrão\n",
        "feat = 'Porc_cesareas'\n",
        "\n",
        "### Estilos de Mapa disponíveis\n",
        "estil_map = ['aggrnyl', 'agsunset', 'algae', 'amp', 'armyrose', 'balance',\n",
        "             'blackbody', 'bluered', 'blues', 'blugrn', 'bluyl', 'brbg',\n",
        "             'brwnyl', 'bugn', 'bupu', 'burg', 'burgyl', 'cividis', 'curl',\n",
        "             'darkmint', 'deep', 'delta', 'dense', 'earth', 'edge', 'electric',\n",
        "             'emrld', 'fall', 'geyser', 'gnbu', 'gray', 'greens', 'greys',\n",
        "             'haline', 'hot', 'hsv', 'ice', 'icefire', 'inferno', 'jet',\n",
        "             'magenta', 'magma', 'matter', 'mint', 'mrybm', 'mygbm', 'oranges',\n",
        "             'orrd', 'oryel', 'oxy', 'peach', 'phase', 'picnic', 'pinkyl',\n",
        "             'piyg', 'plasma', 'plotly3', 'portland', 'prgn', 'pubu', 'pubugn',\n",
        "             'puor', 'purd', 'purp', 'purples', 'purpor', 'rainbow', 'rdbu',\n",
        "             'rdgy', 'rdpu', 'rdylbu', 'rdylgn', 'redor', 'reds', 'solar',\n",
        "             'spectral', 'speed', 'sunset', 'sunsetdark', 'teal', 'tealgrn',\n",
        "             'tealrose', 'tempo', 'temps', 'thermal', 'tropic', 'turbid',\n",
        "             'turbo', 'twilight', 'viridis', 'ylgn', 'ylgnbu', 'ylorbr',\n",
        "             'ylorrd']\n",
        "\n",
        "'''\n",
        "Função Para Impressão do Mapa.\n",
        "'''\n",
        "\n",
        "def imprime_mapa_by_features_plus(dados, feat, cluster, ano, estilo, animacao):\n",
        "  #feat = \"Nascimentos\"\n",
        "\n",
        "  if cluster != \"\":\n",
        "    dados_to_plot = dados.query('Cluster  ==' + str(cluster))\n",
        "  else:\n",
        "    dados_to_plot = dados\n",
        "\n",
        "  if ano != \"\":\n",
        "    dados_to_plot = dados_to_plot.query('Ano  ==' + str(ano))\n",
        "\n",
        "\n",
        "  if animacao == 'Cluster':\n",
        "    dados_to_plot = dados_to_plot.sort_values(by='Cluster')\n",
        "  else:\n",
        "    dados_to_plot = dados_to_plot.sort_values(by='Ano')\n",
        "  \n",
        "\n",
        "\n",
        "\n",
        "\n",
        "  if dados_to_plot.shape[0]>0:\n",
        "\n",
        "    fig = px.choropleth(\n",
        "                        dados_to_plot, #soybean database\n",
        "                        locations = 'Estado', #define the limits on the map/geography\n",
        "                        geojson = Brazil, #shape information\n",
        "                        color = feat, #defining the color of the scale through the database\n",
        "                        color_continuous_scale=estilo,\n",
        "                        hover_name = 'Estado', #the information in the box\n",
        "                        hover_data =[feat,\"Longitude\",\"Latitude\"],\n",
        "                        #title = \"OOBr - Dados Socioeconômicos & Obstétricos -  Cluster: \" + str(cluster) + \" - Ano \" + str(ano) , #title of the map\n",
        "                        title = \"OOBr - Dados Socioeconômicos & Obstétricos\", #title of the map\n",
        "                        animation_frame = animacao #creating the application based on the year\n",
        "                        )\n",
        "    fig.update_geos(fitbounds = \"locations\", visible = True)     \n",
        "    fig.show()\n",
        "    \n",
        "    \n"
      ],
      "execution_count": null,
      "outputs": []
    },
    {
      "cell_type": "code",
      "metadata": {
        "id": "_uo1w69LgJ4h"
      },
      "source": [
        "#@title Imprime Mapa\n",
        "\n",
        "\n",
        "ano = \"\" #@param [\"\", \"2000\", \"2010\"]\n",
        "variavel = \"Nascimentos\" #@param [\"Nascimentos\", \"Porc_prematuros\", \"Porc_cesareas\", \"Porc_grav_multipla\",              \"Porc_anomalias\", \"Porc_nenhuma_consulta\", \"Porc_consulta7mais\",              \"Porc_feminino\", \"Porc_raca_mae_branca\", \"Porc_raca_mae_negra\",              \"Porc_peso_menor_2500\", \"Porc_apgar1_menor_7\", \"Porc_apgar5_menor_7\",              \"GINI\", \"T_DES\", \"T_ANALF15M\", \"PAREDE\", \"T_AGUA\", \"T_BANAGUA\", \"AGUA_ESGOTO\", \"T_LIXO\",  \"CLUSTER\"]\n",
        "cluster = \"\" #@param [\"\", \"0\", \"1\", \"2\", \"3\", \"4\", \"5\"]\n",
        "animacao = \"Ano\" #@param [\"Ano\", \"Cluster\"]\n",
        "estilo = \"tempo\" #@param [\"aggrnyl\", \"agsunset\", \"algae\", \"amp\", \"armyrose\", \"balance\", \"blackbody\", \"bluered\", \"blues\", \"blugrn\", \"bluyl\", \"brbg\",              \"brwnyl\", \"bugn\", \"bupu\", \"burg\", \"burgyl\", \"cividis\", \"curl\",              \"darkmint\", \"deep\", \"delta\", \"dense\", \"earth\", \"edge\", \"electric\",              \"emrld\", \"fall\", \"geyser\", \"gnbu\", \"gray\", \"greens\", \"greys\",              \"haline\", \"hot\", \"hsv\", \"ice\", \"icefire\", \"inferno\", \"jet\",              \"magenta\", \"magma\", \"matter\", \"mint\", \"mrybm\", \"mygbm\", \"oranges\",              \"orrd\", \"oryel\", \"oxy\", \"peach\", \"phase\", \"picnic\", \"pinkyl\",              \"piyg\", \"plasma\", \"plotly3\", \"portland\", \"prgn\", \"pubu\", \"pubugn\",              \"puor\", \"purd\", \"purp\", \"purples\", \"purpor\", \"rainbow\", \"rdbu\",              \"rdgy\", \"rdpu\", \"rdylbu\", \"rdylgn\", \"redor\", \"reds\", \"solar\",              \"spectral\", \"speed\", \"sunset\", \"sunsetdark\", \"teal\", \"tealgrn\",              \"tealrose\", \"tempo\", \"temps\", \"thermal\", \"tropic\", \"turbid\",              \"turbo\", \"twilight\", \"viridis\", \"ylgn\", \"ylgnbu\", \"ylorbr\",              \"ylorrd\"]\n",
        "\n",
        "\n",
        "#@markdown ---\n",
        "imprime_mapa_by_features_plus(dados,variavel, cluster,ano, estilo, animacao )\n",
        "\n",
        "\n"
      ],
      "execution_count": null,
      "outputs": []
    },
    {
      "cell_type": "code",
      "source": [
        "import matplotlib.pyplot as plt_\n",
        "import seaborn as sea\n",
        "\n",
        "\n",
        "fator = .75\n",
        "tam_x = 18.16*fator #int(df_clu.shape[1]/10)+16.18\n",
        "tam_y = 10*fator \n",
        "fig, ax = plt_.subplots(figsize=(tam_x,tam_y))\n",
        "sea.barplot(data=dados.query('Ano ==2010')[['UF', variavel]], x=variavel, y='UF', ax=ax)\n",
        "plt_.grid(color='grey', linestyle=':', linewidth=.5)\n",
        "plt_.title(\"Estados - 2010 - \" + variavel)\n",
        "plt_.show()  \n"
      ],
      "metadata": {
        "id": "nwC2xeg4tGpu"
      },
      "execution_count": null,
      "outputs": []
    }
  ]
}